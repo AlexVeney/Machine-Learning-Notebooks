{
 "cells": [
  {
   "cell_type": "markdown",
   "metadata": {},
   "source": [
    "# Predicting Crime in US Communities"
   ]
  },
  {
   "cell_type": "markdown",
   "metadata": {},
   "source": [
    "# Data set information\n",
    "\n",
    "Many variables are included so that algorithms that select or learn weights for attributes could be tested. However, clearly unrelated attributes were not included; atttributes were picked if there was any plausible connection to crime (N=122), plus the attribute to be predicted (Per Capita Violent Crimes). The variables included in the dataset involve the community, such as the percent of the poupulation considered urban, and the median family income, and involving law enforcement, such as per capita number of police officers, and percent of officers assigned to drug units.\n",
    "\n",
    "The per capita violent crimes variable was calculated using population and the sum of crime variables considered violent crimes in the United States: murder, rape, robbery, and assault. There was apparently some controversy in some states concerning the counting of rapes. These resulted in missing values for rape, which resulted in incoorect values for per capita violent crimes. These cities are not included in the dataset. Many of these omitted communities were from the midwestern USA.\n",
    "\n",
    "Data is described below based on original values. All numeric data was normalized into the decimal rang 0.00-1.00 using an Unsupervised, equal-internal binning method. Attributes retain their distribution and skew (hence for example the population attribute has a mean value of 0.06 because most communities are small). E.g. An attribute described as 'mean people per household' is actually the normalized (0-1) version of that value.\n",
    "\n",
    "The normalization preserves rough ratios of values WITHIN an attribute (e.g. double the value for double the population within the available precision - except for extreme values ( all values mor than 3 SD above the mean are normalized to 1.00; all values more than 3 SD below the mean are normalized to 0.00)).\n",
    "\n",
    "However, the normalization does not preserve relationships between values BETWEEN attributes (e.g. it would not be meaningful to compare the value of whitePerCap with the value for blackPerCap for a community)\n",
    "\n",
    "A limitation was that the LEMAS survey was of the police departments with at least 100 officers, plus a random sample of smaller departments. For our purposes, communities not found in both census and crime datasets were omitted. Many communities are missing LEMAS data.\n"
   ]
  },
  {
   "cell_type": "markdown",
   "metadata": {},
   "source": [
    "### Data Citation:\n",
    "\n",
    "U. S. Department of Commerce, Bureau of the Census, Census Of Population And Housing 1990 United States: Summary Tape File 1a & 3a (Computer Files),\n",
    "\n",
    "U.S. Department Of Commerce, Bureau Of The Census Producer, Washington, DC and Inter-university Consortium for Political and Social Research Ann Arbor, Michigan. (1992)\n",
    "\n",
    "U.S. Department of Justice, Bureau of Justice Statistics, Law Enforcement Management And Administrative Statistics (Computer File) U.S. Department Of Commerce, Bureau Of The Census Producer, Washington, DC and Inter-university Consortium for Political and Social Research Ann Arbor, Michigan. (1992)\n",
    "\n",
    "U.S. Department of Justice, Federal Bureau of Investigation, Crime in the United States (Computer File) (1995)\n",
    "\n",
    "Redmond, M. A. and A. Baveja: A Data-Driven Software Tool for Enabling Cooperative Information Sharing Among Police Departments. European Journal of Operational Research 141 (2002) 660-678.\n",
    "\n",
    "Creator: Michael Redmond (redmond '@' lasalle.edu); Computer Science; La Salle University; Philadelphia, PA, 19141, USA\n",
    "-- culled from 1990 US Census, 1995 US FBI Uniform Crime Report, 1990 US Law Enforcement Management and Administrative Statistics Survey, available from ICPSR at U of Michigan.\n",
    "-- Donor: Michael Redmond (redmond '@' lasalle.edu); Computer Science; La Salle University; Philadelphia, PA, 19141, USA\n",
    "-- Date: July 2009"
   ]
  },
  {
   "cell_type": "markdown",
   "metadata": {},
   "source": [
    "# Attribute Information:\n",
    "\n",
    "Attribute Information: (122 predictive, 5 non-predictive, 1 goal)*  state: US state (by number) - not counted as predictive above, but if considered, should be consided nominal (nominal)\n",
    "*  county: numeric code for county - not predictive, and many missing values (numeric)\n",
    "*  community: numeric code for community - not predictive and many missing values (numeric)\n",
    "*  communityname: community name - not predictive - for information only (string)\n",
    "*  fold: fold number for non-random 10 fold cross validation, potentially useful for debugging, paired tests - not predictive (numeric)\n",
    "*  population: population for community: (numeric - decimal)\n",
    "*  householdsize: mean people per household (numeric - decimal)\n",
    "*  racepctblack: percentage of population that is african american (numeric - decimal)\n",
    "*  racePctWhite: percentage of population that is caucasian (numeric - decimal)\n",
    "*  racePctAsian: percentage of population that is of asian heritage (numeric - decimal)\n",
    "*  racePctHisp: percentage of population that is of hispanic heritage (numeric - decimal)\n",
    "*  agePct12t21: percentage of population that is 12-21 in age (numeric - decimal)\n",
    "*  agePct12t29: percentage of population that is 12-29 in age (numeric - decimal)\n",
    "*  agePct16t24: percentage of population that is 16-24 in age (numeric - decimal)\n",
    "*  agePct65up: percentage of population that is 65 and over in age (numeric - decimal)\n",
    "*  numbUrban: number of people living in areas classified as urban (numeric - decimal)\n",
    "*  pctUrban: percentage of people living in areas classified as urban (numeric - decimal)\n",
    "*  medIncome: median household income (numeric - decimal)\n",
    "*  pctWWage: percentage of households with wage or salary income in 1989 (numeric - decimal)\n",
    "*  pctWFarmSelf: percentage of households with farm or self employment income in 1989 (numeric - decimal)\n",
    "*  pctWInvInc: percentage of households with investment / rent income in 1989 (numeric - decimal)\n",
    "*  pctWSocSec: percentage of households with social security income in 1989 (numeric - decimal)\n",
    "*  pctWPubAsst: percentage of households with public assistance income in 1989 (numeric - decimal)\n",
    "*  pctWRetire: percentage of households with retirement income in 1989 (numeric - decimal)\n",
    "*  medFamInc: median family income (differs from household income for non-family households) (numeric - decimal)\n",
    "*  perCapInc: per capita income (numeric - decimal)\n",
    "*  whitePerCap: per capita income for caucasians (numeric - decimal)\n",
    "*  blackPerCap: per capita income for african americans (numeric - decimal)\n",
    "*  indianPerCap: per capita income for native americans (numeric - decimal)\n",
    "*  AsianPerCap: per capita income for people with asian heritage (numeric - decimal)\n",
    "*  OtherPerCap: per capita income for people with 'other' heritage (numeric - decimal)\n",
    "*  HispPerCap: per capita income for people with hispanic heritage (numeric - decimal)\n",
    "*  NumUnderPov: number of people under the poverty level (numeric - decimal)\n",
    "*  PctPopUnderPov: percentage of people under the poverty level (numeric - decimal)\n",
    "*  PctLess9thGrade: percentage of people 25 and over with less than a 9th grade education (numeric - decimal)\n",
    "*  PctNotHSGrad: percentage of people 25 and over that are not high school graduates (numeric - decimal)\n",
    "*  PctBSorMore: percentage of people 25 and over with a bachelors degree or higher education (numeric - decimal)\n",
    "*  PctUnemployed: percentage of people 16 and over, in the labor force, and unemployed (numeric - decimal)\n",
    "*  PctEmploy: percentage of people 16 and over who are employed (numeric - decimal)\n",
    "*  PctEmplManu: percentage of people 16 and over who are employed in manufacturing (numeric - decimal)\n",
    "*  PctEmplProfServ: percentage of people 16 and over who are employed in professional services (numeric - decimal)\n",
    "*  PctOccupManu: percentage of people 16 and over who are employed in manufacturing (numeric - decimal) ########\n",
    "*  PctOccupMgmtProf: percentage of people 16 and over who are employed in management or professional occupations (numeric - decimal)\n",
    "*  MalePctDivorce: percentage of males who are divorced (numeric - decimal)\n",
    "*  MalePctNevMarr: percentage of males who have never married (numeric - decimal)\n",
    "*  FemalePctDiv: percentage of females who are divorced (numeric - decimal)\n",
    "*  TotalPctDiv: percentage of population who are divorced (numeric - decimal)\n",
    "*  PersPerFam: mean number of people per family (numeric - decimal)\n",
    "*  PctFam2Par: percentage of families (with kids) that are headed by two parents (numeric - decimal)\n",
    "*  PctKids2Par: percentage of kids in family housing with two parents (numeric - decimal)\n",
    "*  PctYoungKids2Par: percent of kids 4 and under in two parent households (numeric - decimal)\n",
    "*  PctTeen2Par: percent of kids age 12-17 in two parent households (numeric - decimal)\n",
    "*  PctWorkMomYoungKids: percentage of moms of kids 6 and under in labor force (numeric - decimal)\n",
    "*  PctWorkMom: percentage of moms of kids under 18 in labor force (numeric - decimal)\n",
    "*  NumIlleg: number of kids born to never married (numeric - decimal)\n",
    "*  PctIlleg: percentage of kids born to never married (numeric - decimal)\n",
    "*  NumImmig: total number of people known to be foreign born (numeric - decimal)\n",
    "*  PctImmigRecent: percentage of _immigrants_ who immigated within last 3 years (numeric - decimal)\n",
    "*  PctImmigRec5: percentage of _immigrants_ who immigated within last 5 years (numeric - decimal)\n",
    "*  PctImmigRec8: percentage of _immigrants_ who immigated within last 8 years (numeric - decimal)\n",
    "*  PctImmigRec10: percentage of _immigrants_ who immigated within last 10 years (numeric - decimal)\n",
    "*  PctRecentImmig: percent of _population_ who have immigrated within the last 3 years (numeric - decimal)\n",
    "*  PctRecImmig5: percent of _population_ who have immigrated within the last 5 years (numeric - decimal)\n",
    "*  PctRecImmig8: percent of _population_ who have immigrated within the last 8 years (numeric - decimal)\n",
    "*  PctRecImmig10: percent of _population_ who have immigrated within the last 10 years (numeric - decimal)\n",
    "*  PctSpeakEnglOnly: percent of people who speak only English (numeric - decimal)\n",
    "*  PctNotSpeakEnglWell: percent of people who do not speak English well (numeric - decimal)\n",
    "*  PctLargHouseFam: percent of family households that are large (6 or more) (numeric - decimal)\n",
    "*  PctLargHouseOccup: percent of all occupied households that are large (6 or more people) (numeric - decimal)\n",
    "*  PersPerOccupHous: mean persons per household (numeric - decimal)\n",
    "*  PersPerOwnOccHous: mean persons per owner occupied household (numeric - decimal)\n",
    "*  PersPerRentOccHous: mean persons per rental household (numeric - decimal)\n",
    "*  PctPersOwnOccup: percent of people in owner occupied households (numeric - decimal)\n",
    "*  PctPersDenseHous: percent of persons in dense housing (more than 1 person per room) (numeric - decimal)\n",
    "*  PctHousLess3BR: percent of housing units with less than 3 bedrooms (numeric - decimal)\n",
    "*  MedNumBR: median number of bedrooms (numeric - decimal)\n",
    "*  HousVacant: number of vacant households (numeric - decimal)\n",
    "*  PctHousOccup: percent of housing occupied (numeric - decimal)\n",
    "*  PctHousOwnOcc: percent of households owner occupied (numeric - decimal)\n",
    "*  PctVacantBoarded: percent of vacant housing that is boarded up (numeric - decimal)\n",
    "*  PctVacMore6Mos: percent of vacant housing that has been vacant more than 6 months (numeric - decimal)\n",
    "*  MedYrHousBuilt: median year housing units built (numeric - decimal)\n",
    "*  PctHousNoPhone: percent of occupied housing units without phone (in 1990, this was rare!) (numeric - decimal)\n",
    "*  PctWOFullPlumb: percent of housing without complete plumbing facilities (numeric - decimal)\n",
    "*  OwnOccLowQuart: owner occupied housing - lower quartile value (numeric - decimal)\n",
    "*  OwnOccMedVal: owner occupied housing - median value (numeric - decimal)\n",
    "*  OwnOccHiQuart: owner occupied housing - upper quartile value (numeric - decimal)\n",
    "*  RentLowQ: rental housing - lower quartile rent (numeric - decimal)\n",
    "*  RentMedian: rental housing - median rent (Census variable H32B from file STF1A) (numeric - decimal)\n",
    "*  RentHighQ: rental housing - upper quartile rent (numeric - decimal)\n",
    "*  MedRent: median gross rent (Census variable H43A from file STF3A - includes utilities) (numeric - decimal)\n",
    "*  MedRentPctHousInc: median gross rent as a percentage of household income (numeric - decimal)\n",
    "*  MedOwnCostPctInc: median owners cost as a percentage of household income - for owners with a mortgage (numeric - decimal)\n",
    "*  MedOwnCostPctIncNoMtg: median owners cost as a percentage of household income - for owners without a mortgage (numeric - decimal)\n",
    "*  NumInShelters: number of people in homeless shelters (numeric - decimal)\n",
    "*  NumStreet: number of homeless people counted in the street (numeric - decimal)\n",
    "*  PctForeignBorn: percent of people foreign born (numeric - decimal)\n",
    "*  PctBornSameState: percent of people born in the same state as currently living (numeric - decimal)\n",
    "*  PctSameHouse85: percent of people living in the same house as in 1985 (5 years before) (numeric - decimal)\n",
    "*  PctSameCity85: percent of people living in the same city as in 1985 (5 years before) (numeric - decimal)\n",
    "*  PctSameState85: percent of people living in the same state as in 1985 (5 years before) (numeric - decimal)\n",
    "*  LemasSwornFT: number of sworn full time police officers (numeric - decimal)\n",
    "*  LemasSwFTPerPop: sworn full time police officers per 100K population (numeric - decimal)\n",
    "*  LemasSwFTFieldOps: number of sworn full time police officers in field operations (on the street as opposed to administrative etc) (numeric - decimal)\n",
    "*  LemasSwFTFieldPerPop: sworn full time police officers in field operations (on the street as opposed to administrative etc) per 100K population (numeric - decimal)\n",
    "*  LemasTotalReq: total requests for police (numeric - decimal)\n",
    "*  LemasTotReqPerPop: total requests for police per 100K popuation (numeric - decimal)\n",
    "*  PolicReqPerOffic: total requests for police per police officer (numeric - decimal)\n",
    "*  PolicPerPop: police officers per 100K population (numeric - decimal)\n",
    "*  RacialMatchCommPol: a measure of the racial match between the community and the police force. High values indicate proportions in community and police force are similar (numeric - decimal)\n",
    "*  PctPolicWhite: percent of police that are caucasian (numeric - decimal)\n",
    "*  PctPolicBlack: percent of police that are african american (numeric - decimal)\n",
    "*  PctPolicHisp: percent of police that are hispanic (numeric - decimal)\n",
    "*  PctPolicAsian: percent of police that are asian (numeric - decimal)\n",
    "*  PctPolicMinor: percent of police that are minority of any kind (numeric - decimal)\n",
    "*  OfficAssgnDrugUnits: number of officers assigned to special drug units (numeric - decimal)\n",
    "*  NumKindsDrugsSeiz: number of different kinds of drugs seized (numeric - decimal)\n",
    "*  PolicAveOTWorked: police average overtime worked (numeric - decimal)\n",
    "*  LandArea: land area in square miles (numeric - decimal)\n",
    "*  PopDens: population density in persons per square mile (numeric - decimal)\n",
    "*  PctUsePubTrans: percent of people using public transit for commuting (numeric - decimal)\n",
    "*  PolicCars: number of police cars (numeric - decimal)\n",
    "*  PolicOperBudg: police operating budget (numeric - decimal)\n",
    "*  LemasPctPolicOnPatr: percent of sworn full time police officers on patrol (numeric - decimal)\n",
    "*  LemasGangUnitDeploy: gang unit deployed (numeric - decimal - but really ordinal - 0 means NO, 1 means YES, 0.5 means Part Time)\n",
    "*  LemasPctOfficDrugUn: percent of officers assigned to drug units (numeric - decimal)\n",
    "*  PolicBudgPerPop: police operating budget per population (numeric - decimal)\n",
    "*  ViolentCrimesPerPop: total number of violent crimes per 100K popuation (numeric - decimal) GOAL attribute (to be predicted)"
   ]
  },
  {
   "cell_type": "code",
   "execution_count": 1,
   "metadata": {},
   "outputs": [],
   "source": [
    "# Importing useful libraries\n",
    "import numpy as np\n",
    "import matplotlib.pyplot as plt\n",
    "import pandas as pd\n",
    "%matplotlib inline"
   ]
  },
  {
   "cell_type": "markdown",
   "metadata": {},
   "source": [
    "# 0. Data Preparation"
   ]
  },
  {
   "cell_type": "code",
   "execution_count": 12,
   "metadata": {},
   "outputs": [],
   "source": [
    "headers =['state',\n",
    "'county',\n",
    "'community',\n",
    "'communityname',\n",
    "'fold',\n",
    "'population',\n",
    "'householdsize',\n",
    "'racepctblack',\n",
    "'racePctWhite',\n",
    "'racePctAsian',\n",
    "'racePctHisp',\n",
    "'agePct12t21',\n",
    "'agePct12t29',\n",
    "'agePct16t24',\n",
    "'agePct65up',\n",
    "'numbUrban',\n",
    "'pctUrban',\n",
    "'medIncome',\n",
    "'pctWWage',\n",
    "'pctWFarmSelf',\n",
    "'pctWInvInc',\n",
    "'pctWSocSec',\n",
    "'pctWPubAsst',\n",
    "'pctWRetire',\n",
    "'medFamInc',\n",
    "'perCapInc',\n",
    "'whitePerCap',\n",
    "'blackPerCap',\n",
    "'indianPerCap',\n",
    "'AsianPerCap',\n",
    "'OtherPerCap',\n",
    "'HispPerCap',\n",
    "'NumUnderPov',\n",
    "'PctPopUnderPov',\n",
    "'PctLess9thGrade',\n",
    "'PctNotHSGrad',\n",
    "'PctBSorMore',\n",
    "'PctUnemployed',\n",
    "'PctEmploy',\n",
    "'PctEmplManu',\n",
    "'PctEmplProfServ',\n",
    "'PctOccupManu',\n",
    "'PctOccupMgmtProf',\n",
    "'MalePctDivorce',\n",
    "'MalePctNevMarr',\n",
    "'FemalePctDiv',\n",
    "'TotalPctDiv',\n",
    "'PersPerFam',\n",
    "'PctFam2Par',\n",
    "'PctKids2Par',\n",
    "'PctYoungKids2Par',\n",
    "'PctTeen2Par',\n",
    "'PctWorkMomYoungKids',\n",
    "'PctWorkMom',\n",
    "'NumIlleg',\n",
    "'PctIlleg',\n",
    "'NumImmig',\n",
    "'PctImmigRecent',\n",
    "'PctImmigRec5',\n",
    "'PctImmigRec8',\n",
    "'PctImmigRec10',\n",
    "'PctRecentImmig',\n",
    "'PctRecImmig5',\n",
    "'PctRecImmig8',\n",
    "'PctRecImmig10',\n",
    "'PctSpeakEnglOnly',\n",
    "'PctNotSpeakEnglWell',\n",
    "'PctLargHouseFam',\n",
    "'PctLargHouseOccup',\n",
    "'PersPerOccupHous',\n",
    "'PersPerOwnOccHous',\n",
    "'PersPerRentOccHous',\n",
    "'PctPersOwnOccup',\n",
    "'PctPersDenseHous',\n",
    "'PctHousLess3BR',\n",
    "'MedNumBR',\n",
    "'HousVacant',\n",
    "'PctHousOccup',\n",
    "'PctHousOwnOcc',\n",
    "'PctVacantBoarded',\n",
    "'PctVacMore6Mos',\n",
    "'MedYrHousBuilt',\n",
    "'PctHousNoPhone',\n",
    "'PctWOFullPlumb',\n",
    "'OwnOccLowQuart',\n",
    "'OwnOccMedVal',\n",
    "'OwnOccHiQuart',\n",
    "'RentLowQ',\n",
    "'RentMedian',\n",
    "'RentHighQ',\n",
    "'MedRent',\n",
    "'MedRentPctHousInc',\n",
    "'MedOwnCostPctInc',\n",
    "'MedOwnCostPctIncNoMtg',\n",
    "'NumInShelters',\n",
    "'NumStreet',\n",
    "'PctForeignBorn',\n",
    "'PctBornSameState',\n",
    "'PctSameHouse85',\n",
    "'PctSameCity85',\n",
    "'PctSameState85',\n",
    "'LemasSwornFT',\n",
    "'LemasSwFTPerPop',\n",
    "'LemasSwFTFieldOps',\n",
    "'LemasSwFTFieldPerPop',\n",
    "'LemasTotalReq',\n",
    "'LemasTotReqPerPop',\n",
    "'PolicReqPerOffic',\n",
    "'PolicPerPop',\n",
    "'RacialMatchCommPol',\n",
    "'PctPolicWhite',\n",
    "'PctPolicBlack',\n",
    "'PctPolicHisp',\n",
    "'PctPolicAsian',\n",
    "'PctPolicMinor',\n",
    "'OfficAssgnDrugUnits',\n",
    "'NumKindsDrugsSeiz',\n",
    "'PolicAveOTWorked',\n",
    "'LandArea',\n",
    "'PopDens',\n",
    "'PctUsePubTrans',\n",
    "'PolicCars',\n",
    "'PolicOperBudg',\n",
    "'LemasPctPolicOnPatr',\n",
    "'LemasGangUnitDeploy',\n",
    "'LemasPctOfficDrugUn',\n",
    "'PolicBudgPerPop',\n",
    "'ViolentCrimesPerPop']"
   ]
  },
  {
   "cell_type": "code",
   "execution_count": 13,
   "metadata": {},
   "outputs": [
    {
     "data": {
      "text/html": [
       "<div>\n",
       "<style scoped>\n",
       "    .dataframe tbody tr th:only-of-type {\n",
       "        vertical-align: middle;\n",
       "    }\n",
       "\n",
       "    .dataframe tbody tr th {\n",
       "        vertical-align: top;\n",
       "    }\n",
       "\n",
       "    .dataframe thead th {\n",
       "        text-align: right;\n",
       "    }\n",
       "</style>\n",
       "<table border=\"1\" class=\"dataframe\">\n",
       "  <thead>\n",
       "    <tr style=\"text-align: right;\">\n",
       "      <th></th>\n",
       "      <th>state</th>\n",
       "      <th>county</th>\n",
       "      <th>community</th>\n",
       "      <th>fold</th>\n",
       "      <th>population</th>\n",
       "      <th>householdsize</th>\n",
       "      <th>racepctblack</th>\n",
       "      <th>racePctWhite</th>\n",
       "      <th>racePctAsian</th>\n",
       "      <th>racePctHisp</th>\n",
       "      <th>...</th>\n",
       "      <th>LandArea</th>\n",
       "      <th>PopDens</th>\n",
       "      <th>PctUsePubTrans</th>\n",
       "      <th>PolicCars</th>\n",
       "      <th>PolicOperBudg</th>\n",
       "      <th>LemasPctPolicOnPatr</th>\n",
       "      <th>LemasGangUnitDeploy</th>\n",
       "      <th>LemasPctOfficDrugUn</th>\n",
       "      <th>PolicBudgPerPop</th>\n",
       "      <th>ViolentCrimesPerPop</th>\n",
       "    </tr>\n",
       "    <tr>\n",
       "      <th>communityname</th>\n",
       "      <th></th>\n",
       "      <th></th>\n",
       "      <th></th>\n",
       "      <th></th>\n",
       "      <th></th>\n",
       "      <th></th>\n",
       "      <th></th>\n",
       "      <th></th>\n",
       "      <th></th>\n",
       "      <th></th>\n",
       "      <th></th>\n",
       "      <th></th>\n",
       "      <th></th>\n",
       "      <th></th>\n",
       "      <th></th>\n",
       "      <th></th>\n",
       "      <th></th>\n",
       "      <th></th>\n",
       "      <th></th>\n",
       "      <th></th>\n",
       "      <th></th>\n",
       "    </tr>\n",
       "  </thead>\n",
       "  <tbody>\n",
       "    <tr>\n",
       "      <th>Lakewoodcity</th>\n",
       "      <td>8</td>\n",
       "      <td>NaN</td>\n",
       "      <td>NaN</td>\n",
       "      <td>1</td>\n",
       "      <td>0.19</td>\n",
       "      <td>0.33</td>\n",
       "      <td>0.02</td>\n",
       "      <td>0.90</td>\n",
       "      <td>0.12</td>\n",
       "      <td>0.17</td>\n",
       "      <td>...</td>\n",
       "      <td>0.12</td>\n",
       "      <td>0.26</td>\n",
       "      <td>0.20</td>\n",
       "      <td>0.06</td>\n",
       "      <td>0.04</td>\n",
       "      <td>0.9</td>\n",
       "      <td>0.5</td>\n",
       "      <td>0.32</td>\n",
       "      <td>0.14</td>\n",
       "      <td>0.20</td>\n",
       "    </tr>\n",
       "    <tr>\n",
       "      <th>Tukwilacity</th>\n",
       "      <td>53</td>\n",
       "      <td>NaN</td>\n",
       "      <td>NaN</td>\n",
       "      <td>1</td>\n",
       "      <td>0.00</td>\n",
       "      <td>0.16</td>\n",
       "      <td>0.12</td>\n",
       "      <td>0.74</td>\n",
       "      <td>0.45</td>\n",
       "      <td>0.07</td>\n",
       "      <td>...</td>\n",
       "      <td>0.02</td>\n",
       "      <td>0.12</td>\n",
       "      <td>0.45</td>\n",
       "      <td>NaN</td>\n",
       "      <td>NaN</td>\n",
       "      <td>NaN</td>\n",
       "      <td>NaN</td>\n",
       "      <td>0.00</td>\n",
       "      <td>NaN</td>\n",
       "      <td>0.67</td>\n",
       "    </tr>\n",
       "    <tr>\n",
       "      <th>Aberdeentown</th>\n",
       "      <td>24</td>\n",
       "      <td>NaN</td>\n",
       "      <td>NaN</td>\n",
       "      <td>1</td>\n",
       "      <td>0.00</td>\n",
       "      <td>0.42</td>\n",
       "      <td>0.49</td>\n",
       "      <td>0.56</td>\n",
       "      <td>0.17</td>\n",
       "      <td>0.04</td>\n",
       "      <td>...</td>\n",
       "      <td>0.01</td>\n",
       "      <td>0.21</td>\n",
       "      <td>0.02</td>\n",
       "      <td>NaN</td>\n",
       "      <td>NaN</td>\n",
       "      <td>NaN</td>\n",
       "      <td>NaN</td>\n",
       "      <td>0.00</td>\n",
       "      <td>NaN</td>\n",
       "      <td>0.43</td>\n",
       "    </tr>\n",
       "    <tr>\n",
       "      <th>Willingborotownship</th>\n",
       "      <td>34</td>\n",
       "      <td>5.0</td>\n",
       "      <td>81440.0</td>\n",
       "      <td>1</td>\n",
       "      <td>0.04</td>\n",
       "      <td>0.77</td>\n",
       "      <td>1.00</td>\n",
       "      <td>0.08</td>\n",
       "      <td>0.12</td>\n",
       "      <td>0.10</td>\n",
       "      <td>...</td>\n",
       "      <td>0.02</td>\n",
       "      <td>0.39</td>\n",
       "      <td>0.28</td>\n",
       "      <td>NaN</td>\n",
       "      <td>NaN</td>\n",
       "      <td>NaN</td>\n",
       "      <td>NaN</td>\n",
       "      <td>0.00</td>\n",
       "      <td>NaN</td>\n",
       "      <td>0.12</td>\n",
       "    </tr>\n",
       "    <tr>\n",
       "      <th>Bethlehemtownship</th>\n",
       "      <td>42</td>\n",
       "      <td>95.0</td>\n",
       "      <td>6096.0</td>\n",
       "      <td>1</td>\n",
       "      <td>0.01</td>\n",
       "      <td>0.55</td>\n",
       "      <td>0.02</td>\n",
       "      <td>0.95</td>\n",
       "      <td>0.09</td>\n",
       "      <td>0.05</td>\n",
       "      <td>...</td>\n",
       "      <td>0.04</td>\n",
       "      <td>0.09</td>\n",
       "      <td>0.02</td>\n",
       "      <td>NaN</td>\n",
       "      <td>NaN</td>\n",
       "      <td>NaN</td>\n",
       "      <td>NaN</td>\n",
       "      <td>0.00</td>\n",
       "      <td>NaN</td>\n",
       "      <td>0.03</td>\n",
       "    </tr>\n",
       "  </tbody>\n",
       "</table>\n",
       "<p>5 rows × 127 columns</p>\n",
       "</div>"
      ],
      "text/plain": [
       "                     state  county  community  fold  population  \\\n",
       "communityname                                                     \n",
       "Lakewoodcity             8     NaN        NaN     1        0.19   \n",
       "Tukwilacity             53     NaN        NaN     1        0.00   \n",
       "Aberdeentown            24     NaN        NaN     1        0.00   \n",
       "Willingborotownship     34     5.0    81440.0     1        0.04   \n",
       "Bethlehemtownship       42    95.0     6096.0     1        0.01   \n",
       "\n",
       "                     householdsize  racepctblack  racePctWhite  racePctAsian  \\\n",
       "communityname                                                                  \n",
       "Lakewoodcity                  0.33          0.02          0.90          0.12   \n",
       "Tukwilacity                   0.16          0.12          0.74          0.45   \n",
       "Aberdeentown                  0.42          0.49          0.56          0.17   \n",
       "Willingborotownship           0.77          1.00          0.08          0.12   \n",
       "Bethlehemtownship             0.55          0.02          0.95          0.09   \n",
       "\n",
       "                     racePctHisp  ...  LandArea  PopDens  PctUsePubTrans  \\\n",
       "communityname                     ...                                      \n",
       "Lakewoodcity                0.17  ...      0.12     0.26            0.20   \n",
       "Tukwilacity                 0.07  ...      0.02     0.12            0.45   \n",
       "Aberdeentown                0.04  ...      0.01     0.21            0.02   \n",
       "Willingborotownship         0.10  ...      0.02     0.39            0.28   \n",
       "Bethlehemtownship           0.05  ...      0.04     0.09            0.02   \n",
       "\n",
       "                     PolicCars  PolicOperBudg  LemasPctPolicOnPatr  \\\n",
       "communityname                                                        \n",
       "Lakewoodcity              0.06           0.04                  0.9   \n",
       "Tukwilacity                NaN            NaN                  NaN   \n",
       "Aberdeentown               NaN            NaN                  NaN   \n",
       "Willingborotownship        NaN            NaN                  NaN   \n",
       "Bethlehemtownship          NaN            NaN                  NaN   \n",
       "\n",
       "                     LemasGangUnitDeploy  LemasPctOfficDrugUn  \\\n",
       "communityname                                                   \n",
       "Lakewoodcity                         0.5                 0.32   \n",
       "Tukwilacity                          NaN                 0.00   \n",
       "Aberdeentown                         NaN                 0.00   \n",
       "Willingborotownship                  NaN                 0.00   \n",
       "Bethlehemtownship                    NaN                 0.00   \n",
       "\n",
       "                     PolicBudgPerPop  ViolentCrimesPerPop  \n",
       "communityname                                              \n",
       "Lakewoodcity                    0.14                 0.20  \n",
       "Tukwilacity                      NaN                 0.67  \n",
       "Aberdeentown                     NaN                 0.43  \n",
       "Willingborotownship              NaN                 0.12  \n",
       "Bethlehemtownship                NaN                 0.03  \n",
       "\n",
       "[5 rows x 127 columns]"
      ]
     },
     "execution_count": 13,
     "metadata": {},
     "output_type": "execute_result"
    }
   ],
   "source": [
    "# Importing useful objects\n",
    "# from crime_dataset_headers import *\n",
    "# Importing data\n",
    "data_url='https://archive.ics.uci.edu/ml/machine-learning-databases/communities/communities.data'\n",
    "# crime = pd.read_csv(data_url, header=None, names=headers, na_values='?', index_col='communityname')\n",
    "crime = pd.read_csv(data_url, header=None, names=headers, na_values='?', index_col='communityname')\n",
    "crime.head()"
   ]
  },
  {
   "cell_type": "code",
   "execution_count": 14,
   "metadata": {},
   "outputs": [],
   "source": [
    "# Deleting non predictive columns\n",
    "non_predictive = ['state', 'county', 'community', 'fold']\n",
    "crime.drop(non_predictive, axis=1, inplace=True)\n",
    "\n",
    "# Imputing one missing value\n",
    "crime.loc['Natchezcity', 'OtherPerCap'] = crime['OtherPerCap'].mean()\n",
    "\n",
    "# Deleting columns with majority of missing values\n",
    "missing_values_per_col = crime.isnull().sum()\n",
    "cols_to_remove = missing_values_per_col[missing_values_per_col > 0].index"
   ]
  },
  {
   "cell_type": "code",
   "execution_count": 17,
   "metadata": {},
   "outputs": [
    {
     "data": {
      "text/plain": [
       "population                0\n",
       "householdsize             0\n",
       "racepctblack              0\n",
       "racePctWhite              0\n",
       "racePctAsian              0\n",
       "                       ... \n",
       "LemasPctPolicOnPatr    1675\n",
       "LemasGangUnitDeploy    1675\n",
       "LemasPctOfficDrugUn       0\n",
       "PolicBudgPerPop        1675\n",
       "ViolentCrimesPerPop       0\n",
       "Length: 123, dtype: int64"
      ]
     },
     "execution_count": 17,
     "metadata": {},
     "output_type": "execute_result"
    }
   ],
   "source": [
    "missing_values_per_col"
   ]
  },
  {
   "cell_type": "code",
   "execution_count": 18,
   "metadata": {},
   "outputs": [
    {
     "data": {
      "text/plain": [
       "Index(['LemasSwornFT', 'LemasSwFTPerPop', 'LemasSwFTFieldOps',\n",
       "       'LemasSwFTFieldPerPop', 'LemasTotalReq', 'LemasTotReqPerPop',\n",
       "       'PolicReqPerOffic', 'PolicPerPop', 'RacialMatchCommPol',\n",
       "       'PctPolicWhite', 'PctPolicBlack', 'PctPolicHisp', 'PctPolicAsian',\n",
       "       'PctPolicMinor', 'OfficAssgnDrugUnits', 'NumKindsDrugsSeiz',\n",
       "       'PolicAveOTWorked', 'PolicCars', 'PolicOperBudg', 'LemasPctPolicOnPatr',\n",
       "       'LemasGangUnitDeploy', 'PolicBudgPerPop'],\n",
       "      dtype='object')"
      ]
     },
     "execution_count": 18,
     "metadata": {},
     "output_type": "execute_result"
    }
   ],
   "source": [
    "cols_to_remove"
   ]
  },
  {
   "cell_type": "code",
   "execution_count": 19,
   "metadata": {},
   "outputs": [],
   "source": [
    "crime.drop(cols_to_remove, axis=1, inplace=True)"
   ]
  },
  {
   "cell_type": "code",
   "execution_count": 26,
   "metadata": {},
   "outputs": [
    {
     "data": {
      "text/plain": [
       "['PctKids2Par',\n",
       " 'PctIlleg',\n",
       " 'PctFam2Par',\n",
       " 'racePctWhite',\n",
       " 'PctYoungKids2Par',\n",
       " 'PctTeen2Par',\n",
       " 'racepctblack',\n",
       " 'pctWInvInc',\n",
       " 'pctWPubAsst',\n",
       " 'FemalePctDiv']"
      ]
     },
     "execution_count": 26,
     "metadata": {},
     "output_type": "execute_result"
    }
   ],
   "source": [
    "# Features with the highest correlation with the target\n",
    "top_corr_features = crime.corr().loc['ViolentCrimesPerPop'].apply(np.abs).sort_values(ascending=False).index[1:11]\n",
    "top_corr_features = list(top_corr_features)\n",
    "top_corr_features"
   ]
  },
  {
   "cell_type": "markdown",
   "metadata": {},
   "source": [
    "# Get the training and test sets"
   ]
  },
  {
   "cell_type": "code",
   "execution_count": 28,
   "metadata": {},
   "outputs": [],
   "source": [
    "from sklearn.model_selection import train_test_split\n",
    "from sklearn.metrics import mean_squared_error"
   ]
  },
  {
   "cell_type": "code",
   "execution_count": 29,
   "metadata": {},
   "outputs": [],
   "source": [
    "target_name = 'ViolentCrimesPerPop'\n",
    "X = crime[top_corr_features]\n",
    "y = crime[target_name]\n",
    "X_train, X_test, y_train, y_test = train_test_split(X, y, test_size=0.2, random_state=12)"
   ]
  },
  {
   "cell_type": "markdown",
   "metadata": {},
   "source": [
    "# Preparing a DataFrame for model analysis"
   ]
  },
  {
   "cell_type": "code",
   "execution_count": 30,
   "metadata": {},
   "outputs": [],
   "source": [
    "models = pd.DataFrame(index=['top10_features_mse', 'full_model_mse'],\n",
    "                      columns=['NULL', 'MLR', 'KNN', 'LASSO'])"
   ]
  },
  {
   "cell_type": "markdown",
   "metadata": {},
   "source": [
    "## Make predictions with just a few features (top 10)"
   ]
  },
  {
   "cell_type": "markdown",
   "metadata": {},
   "source": [
    "### The NULL model: always predicts the average of the target"
   ]
  },
  {
   "cell_type": "code",
   "execution_count": 31,
   "metadata": {},
   "outputs": [],
   "source": [
    "y_pred_null = y_train.mean()\n",
    "models.loc['top10_features_mse', 'NULL'] = mean_squared_error(y_pred=np.repeat(y_pred_null, y_test.size),\n",
    "                                                             y_true=y_test)\n"
   ]
  },
  {
   "cell_type": "markdown",
   "metadata": {},
   "source": [
    "### A. Multiple Linear Regression"
   ]
  },
  {
   "cell_type": "code",
   "execution_count": 32,
   "metadata": {},
   "outputs": [],
   "source": [
    "# 1. Import the estimator object (model)\n",
    "from sklearn.linear_model import LinearRegression\n",
    "\n",
    "# 2. Create an instance of the estimator\n",
    "linear_regression = LinearRegression()\n",
    "\n",
    "# 3. Train/Fit the model to the data\n",
    "linear_regression.fit(X_train, y_train)\n",
    "\n",
    "# 4. Evaluate the model\n",
    "\n",
    "models.loc['top10_features_mse', 'MLR'] = mean_squared_error(y_pred=linear_regression.predict(X_test),\n",
    "                                                             y_true=y_test)\n",
    "\n"
   ]
  },
  {
   "cell_type": "markdown",
   "metadata": {},
   "source": [
    "### B. K-Nearest Neighbor Model"
   ]
  },
  {
   "cell_type": "code",
   "execution_count": 34,
   "metadata": {},
   "outputs": [],
   "source": [
    "# 1. Import the model\n",
    "from sklearn.neighbors import KNeighborsRegressor\n",
    "# 2. Instantiate model\n",
    "knn = KNeighborsRegressor(n_neighbors=10, weights='distance', metric='euclidean')\n",
    "# 3. Train/Fit model to data\n",
    "knn.fit(X_train, y_train)\n",
    "# 4. Evaluate model\n",
    "models.loc['top10_features_mse', 'KNN'] = mean_squared_error(y_pred=knn.predict(X_test), \n",
    "                                                            y_true= y_test)\n"
   ]
  },
  {
   "cell_type": "markdown",
   "metadata": {},
   "source": [
    "### C. LASSO Model"
   ]
  },
  {
   "cell_type": "code",
   "execution_count": 63,
   "metadata": {},
   "outputs": [],
   "source": [
    "# 1. Import the model\n",
    "from sklearn.linear_model import Lasso\n",
    "# 2. Instantiate model\n",
    "lasso = Lasso(alpha=0.0001)\n",
    "# 3. Train/Fit model to data\n",
    "lasso.fit(X_train, y_train)\n",
    "# 4. Evaluate model\n",
    "models.loc['top10_features_mse', 'LASSO'] = mean_squared_error(y_pred=lasso.predict(X_test),\n",
    "                                                             y_true=y_test)\n"
   ]
  },
  {
   "cell_type": "code",
   "execution_count": null,
   "metadata": {},
   "outputs": [],
   "source": [
    "# 1. Import the model\n",
    "# 2. Instantiate model\n",
    "# 3. Train/Fit model to data\n",
    "# 4. Evaluate model"
   ]
  },
  {
   "cell_type": "code",
   "execution_count": 64,
   "metadata": {},
   "outputs": [
    {
     "data": {
      "text/html": [
       "<div>\n",
       "<style scoped>\n",
       "    .dataframe tbody tr th:only-of-type {\n",
       "        vertical-align: middle;\n",
       "    }\n",
       "\n",
       "    .dataframe tbody tr th {\n",
       "        vertical-align: top;\n",
       "    }\n",
       "\n",
       "    .dataframe thead th {\n",
       "        text-align: right;\n",
       "    }\n",
       "</style>\n",
       "<table border=\"1\" class=\"dataframe\">\n",
       "  <thead>\n",
       "    <tr style=\"text-align: right;\">\n",
       "      <th></th>\n",
       "      <th>NULL</th>\n",
       "      <th>MLR</th>\n",
       "      <th>KNN</th>\n",
       "      <th>LASSO</th>\n",
       "    </tr>\n",
       "  </thead>\n",
       "  <tbody>\n",
       "    <tr>\n",
       "      <th>top10_features_mse</th>\n",
       "      <td>0.0557338</td>\n",
       "      <td>0.0235119</td>\n",
       "      <td>0.0221343</td>\n",
       "      <td>0.0184808</td>\n",
       "    </tr>\n",
       "    <tr>\n",
       "      <th>full_model_mse</th>\n",
       "      <td>0.0531034</td>\n",
       "      <td>0.019051</td>\n",
       "      <td>0.0196167</td>\n",
       "      <td>0.0531034</td>\n",
       "    </tr>\n",
       "  </tbody>\n",
       "</table>\n",
       "</div>"
      ],
      "text/plain": [
       "                         NULL        MLR        KNN      LASSO\n",
       "top10_features_mse  0.0557338  0.0235119  0.0221343  0.0184808\n",
       "full_model_mse      0.0531034   0.019051  0.0196167  0.0531034"
      ]
     },
     "execution_count": 64,
     "metadata": {},
     "output_type": "execute_result"
    }
   ],
   "source": [
    "models"
   ]
  },
  {
   "cell_type": "code",
   "execution_count": 65,
   "metadata": {},
   "outputs": [
    {
     "data": {
      "image/png": "[encoded data removed]",
      "text/plain": [
       "<Figure size 576x360 with 1 Axes>"
      ]
     },
     "metadata": {
      "needs_background": "light"
     },
     "output_type": "display_data"
    }
   ],
   "source": [
    "fig, ax = plt.subplots(figsize=(8,5))\n",
    "models.loc['top10_features_mse'].plot(kind='barh', ax=ax)\n",
    "ax.set_title('MSE for Regression Models Using top 10 correlated features')\n",
    "ax.legend(loc=3);"
   ]
  },
  {
   "cell_type": "markdown",
   "metadata": {},
   "source": [
    "# Using all the features"
   ]
  },
  {
   "cell_type": "code",
   "execution_count": 88,
   "metadata": {},
   "outputs": [],
   "source": [
    "target_name = 'ViolentCrimesPerPop'\n",
    "X = crime.drop(target_name, axis=1)\n",
    "y = crime[target_name]\n",
    "X_train, X_test, y_train, y_test = train_test_split(X, \n",
    "                                                    y, \n",
    "                                                    test_size=0.2,\n",
    "                                                    random_state=3)"
   ]
  },
  {
   "cell_type": "markdown",
   "metadata": {},
   "source": [
    "### The NULL model: always predict the avg/mean of the target"
   ]
  },
  {
   "cell_type": "code",
   "execution_count": 89,
   "metadata": {},
   "outputs": [],
   "source": [
    "y_pred_null = y_train.mean()\n",
    "models.loc['full_model_mse', 'NULL'] = mean_squared_error(y_pred=np.repeat(y_pred_null, y_test.size),\n",
    "                                                         y_true=y_test)"
   ]
  },
  {
   "cell_type": "markdown",
   "metadata": {},
   "source": [
    "### A. Multiple Linear Regression\n"
   ]
  },
  {
   "cell_type": "code",
   "execution_count": 90,
   "metadata": {},
   "outputs": [],
   "source": [
    "# Import\n",
    "# -- completed on first iteration\n",
    "# Instantiate\n",
    "linear_regression = LinearRegression()\n",
    "# Train/Fit\n",
    "linear_regression.fit(X_train, y_train)\n",
    "# Evaluate\n",
    "models.loc['full_model_mse', 'MLR'] = mean_squared_error(y_pred=linear_regression.predict(X_test),\n",
    "                                                        y_true=y_test)"
   ]
  },
  {
   "cell_type": "markdown",
   "metadata": {},
   "source": [
    "### B. K-Nearest Neighbor Model"
   ]
  },
  {
   "cell_type": "code",
   "execution_count": 91,
   "metadata": {},
   "outputs": [],
   "source": [
    "# Import\n",
    "# -- completed on first iteration\n",
    "# Instantiate\n",
    "knn = KNeighborsRegressor(n_neighbors=10, weights='distance', metric='euclidean')\n",
    "# Train/Fit\n",
    "knn.fit(X_train, y_train)\n",
    "# Evaluate\n",
    "models.loc['full_model_mse', 'KNN'] = mean_squared_error(y_pred=knn.predict(X_test),\n",
    "                                                          y_true=y_test)"
   ]
  },
  {
   "cell_type": "markdown",
   "metadata": {},
   "source": [
    "### C. LASSO model"
   ]
  },
  {
   "cell_type": "code",
   "execution_count": 92,
   "metadata": {},
   "outputs": [],
   "source": [
    "# Import\n",
    "#-- completed on first iteration\n",
    "# Instantiate\n",
    "lasso = Lasso(alpha=0.0005)\n",
    "# Train/Fit\n",
    "lasso.fit(X_train, y_train)\n",
    "# Evaluate\n",
    "models.loc['full_model_mse', 'LASSO'] = mean_squared_error(y_pred=lasso.predict(X_test), \n",
    "                                                          y_true=y_test)"
   ]
  },
  {
   "cell_type": "markdown",
   "metadata": {},
   "source": [
    "# Plot the evaluations of the models on all the features"
   ]
  },
  {
   "cell_type": "code",
   "execution_count": 93,
   "metadata": {},
   "outputs": [
    {
     "data": {
      "image/png": "[encoded data removed]",
      "text/plain": [
       "<Figure size 576x360 with 1 Axes>"
      ]
     },
     "metadata": {
      "needs_background": "light"
     },
     "output_type": "display_data"
    }
   ],
   "source": [
    "fig, ax = plt.subplots(figsize=(8,5))\n",
    "models.loc['full_model_mse'].plot(kind='barh', ax=ax)\n",
    "ax.set_title('MSE for Regression Models Using all features')\n",
    "ax.legend(loc=3);"
   ]
  },
  {
   "cell_type": "code",
   "execution_count": 94,
   "metadata": {},
   "outputs": [
    {
     "data": {
      "text/html": [
       "<div>\n",
       "<style scoped>\n",
       "    .dataframe tbody tr th:only-of-type {\n",
       "        vertical-align: middle;\n",
       "    }\n",
       "\n",
       "    .dataframe tbody tr th {\n",
       "        vertical-align: top;\n",
       "    }\n",
       "\n",
       "    .dataframe thead th {\n",
       "        text-align: right;\n",
       "    }\n",
       "</style>\n",
       "<table border=\"1\" class=\"dataframe\">\n",
       "  <thead>\n",
       "    <tr style=\"text-align: right;\">\n",
       "      <th></th>\n",
       "      <th>NULL</th>\n",
       "      <th>MLR</th>\n",
       "      <th>KNN</th>\n",
       "      <th>LASSO</th>\n",
       "    </tr>\n",
       "  </thead>\n",
       "  <tbody>\n",
       "    <tr>\n",
       "      <th>top10_features_mse</th>\n",
       "      <td>0.0557338</td>\n",
       "      <td>0.0235119</td>\n",
       "      <td>0.0221343</td>\n",
       "      <td>0.0184808</td>\n",
       "    </tr>\n",
       "    <tr>\n",
       "      <th>full_model_mse</th>\n",
       "      <td>0.0535371</td>\n",
       "      <td>0.0184165</td>\n",
       "      <td>0.0235276</td>\n",
       "      <td>0.0195316</td>\n",
       "    </tr>\n",
       "  </tbody>\n",
       "</table>\n",
       "</div>"
      ],
      "text/plain": [
       "                         NULL        MLR        KNN      LASSO\n",
       "top10_features_mse  0.0557338  0.0235119  0.0221343  0.0184808\n",
       "full_model_mse      0.0535371  0.0184165  0.0235276  0.0195316"
      ]
     },
     "execution_count": 94,
     "metadata": {},
     "output_type": "execute_result"
    }
   ],
   "source": [
    "models"
   ]
  },
  {
   "cell_type": "code",
   "execution_count": 95,
   "metadata": {},
   "outputs": [
    {
     "data": {
      "image/png": "[encoded data removed]",
      "text/plain": [
       "<Figure size 576x360 with 1 Axes>"
      ]
     },
     "metadata": {
      "needs_background": "light"
     },
     "output_type": "display_data"
    }
   ],
   "source": [
    "fig, ax = plt.subplots(figsize=(8,5))\n",
    "models.T.plot(kind='barh', ax=ax)\n",
    "ax.set_title('MSE for Regression Models')\n",
    "ax.legend(loc=3);"
   ]
  },
  {
   "cell_type": "markdown",
   "metadata": {},
   "source": [
    "# Results: MLR performed better than the other modesl on the full features"
   ]
  },
  {
   "cell_type": "code",
   "execution_count": 97,
   "metadata": {},
   "outputs": [
    {
     "name": "stdout",
     "output_type": "stream",
     "text": [
      "Features automatically chosen by MLR :\n",
      "\n",
      "1.population\n",
      "2.householdsize\n",
      "3.racepctblack\n",
      "4.racePctHisp\n",
      "5.agePct12t21\n",
      "6.pctUrban\n",
      "7.pctWFarmSelf\n",
      "8.pctWSocSec\n",
      "9.pctWPubAsst\n",
      "10.medFamInc\n",
      "11.perCapInc\n",
      "12.AsianPerCap\n",
      "13.OtherPerCap\n",
      "14.HispPerCap\n",
      "15.NumUnderPov\n",
      "16.PctNotHSGrad\n",
      "17.PctBSorMore\n",
      "18.PctEmploy\n",
      "19.PctEmplProfServ\n",
      "20.PctOccupManu\n",
      "21.PctOccupMgmtProf\n",
      "22.MalePctDivorce\n",
      "23.MalePctNevMarr\n",
      "24.TotalPctDiv\n",
      "25.PctFam2Par\n",
      "26.PctWorkMomYoungKids\n",
      "27.PctIlleg\n",
      "28.PctImmigRec5\n",
      "29.PctImmigRec10\n",
      "30.PctRecImmig8\n",
      "31.PersPerOccupHous\n",
      "32.PersPerOwnOccHous\n",
      "33.PctPersDenseHous\n",
      "34.PctHousLess3BR\n",
      "35.MedNumBR\n",
      "36.HousVacant\n",
      "37.PctHousOwnOcc\n",
      "38.PctVacantBoarded\n",
      "39.PctHousNoPhone\n",
      "40.OwnOccHiQuart\n",
      "41.RentMedian\n",
      "42.MedRent\n",
      "43.MedRentPctHousInc\n",
      "44.NumInShelters\n",
      "45.NumStreet\n",
      "46.PctForeignBorn\n",
      "47.PctBornSameState\n",
      "48.PctSameCity85\n",
      "49.LandArea\n",
      "50.LemasPctOfficDrugUn\n"
     ]
    }
   ],
   "source": [
    "print('Features automatically chosen by MLR :\\n')\n",
    "for i, var in enumerate(X.columns[linear_regression.coef_>0]):\n",
    "    print(\"{}.{}\".format(i+1, var))"
   ]
  },
  {
   "cell_type": "markdown",
   "metadata": {},
   "source": [
    "### Predict Violent Crimes with MLR model"
   ]
  },
  {
   "cell_type": "code",
   "execution_count": 98,
   "metadata": {},
   "outputs": [
    {
     "data": {
      "text/plain": [
       "LinearRegression()"
      ]
     },
     "execution_count": 98,
     "metadata": {},
     "output_type": "execute_result"
    }
   ],
   "source": [
    "# Retrain the best model\n",
    "mlr_final = LinearRegression()\n",
    "mlr_final.fit(X,y)"
   ]
  },
  {
   "cell_type": "code",
   "execution_count": 107,
   "metadata": {},
   "outputs": [
    {
     "data": {
      "text/plain": [
       "population             0.13\n",
       "householdsize          0.71\n",
       "racepctblack           0.15\n",
       "racePctWhite           0.07\n",
       "racePctAsian           1.00\n",
       "                       ... \n",
       "PctSameState85         0.62\n",
       "LandArea               0.02\n",
       "PopDens                1.00\n",
       "PctUsePubTrans         1.00\n",
       "LemasPctOfficDrugUn    0.00\n",
       "Name: DalyCitycity, Length: 100, dtype: float64"
      ]
     },
     "execution_count": 107,
     "metadata": {},
     "output_type": "execute_result"
    }
   ],
   "source": [
    "new_city = crime.iloc[10].drop(target_name)\n",
    "new_city"
   ]
  },
  {
   "cell_type": "code",
   "execution_count": 105,
   "metadata": {},
   "outputs": [
    {
     "data": {
      "text/plain": [
       "array([0.3487708])"
      ]
     },
     "execution_count": 105,
     "metadata": {},
     "output_type": "execute_result"
    }
   ],
   "source": [
    "mlr_final.predict(new_city.values.reshape(1,-1))"
   ]
  },
  {
   "cell_type": "code",
   "execution_count": null,
   "metadata": {},
   "outputs": [],
   "source": []
  }
 ],
 "metadata": {
  "kernelspec": {
   "display_name": "Python 3",
   "language": "python",
   "name": "python3"
  },
  "language_info": {
   "codemirror_mode": {
    "name": "ipython",
    "version": 3
   },
   "file_extension": ".py",
   "mimetype": "text/x-python",
   "name": "python",
   "nbconvert_exporter": "python",
   "pygments_lexer": "ipython3",
   "version": "3.8.5"
  }
 },
 "nbformat": 4,
 "nbformat_minor": 4
}
